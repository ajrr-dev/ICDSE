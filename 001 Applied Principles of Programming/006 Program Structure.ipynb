{
 "cells": [
  {
   "cell_type": "code",
   "execution_count": 1,
   "metadata": {},
   "outputs": [
    {
     "name": "stdout",
     "output_type": "stream",
     "text": [
      "Hello, mr.T\n"
     ]
    }
   ],
   "source": [
    "# A simple Python program structure\n",
    "\n",
    "# Function definition\n",
    "def greet(name):\n",
    "    print(\"Hello,\", name)\n",
    "\n",
    "# Main function\n",
    "def main():\n",
    "    name = input(\"Enter your name: \")\n",
    "    greet(name)\n",
    "\n",
    "# This ensures that the main function is called when the script is executed\n",
    "if __name__ == \"__main__\":\n",
    "    main()\n"
   ]
  }
 ],
 "metadata": {
  "kernelspec": {
   "display_name": "base",
   "language": "python",
   "name": "python3"
  },
  "language_info": {
   "codemirror_mode": {
    "name": "ipython",
    "version": 3
   },
   "file_extension": ".py",
   "mimetype": "text/x-python",
   "name": "python",
   "nbconvert_exporter": "python",
   "pygments_lexer": "ipython3",
   "version": "3.9.12"
  }
 },
 "nbformat": 4,
 "nbformat_minor": 2
}
