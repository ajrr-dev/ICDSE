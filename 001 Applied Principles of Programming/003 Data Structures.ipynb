{
 "cells": [
  {
   "cell_type": "code",
   "execution_count": null,
   "metadata": {},
   "outputs": [],
   "source": [
    "# List - a collection of elements that can be of different data types. Lists are mutable, meaning their elements can be changed after the list is created.\n",
    "fruits = [\"apple\", \"banana\", \"cherry\"]\n",
    "# Accessing the first element of the list using index 0 (Python uses zero-based indexing)\n",
    "print(\"First fruit:\", fruits[0])\n",
    "# append() method: Adds a new element to the end of the list\n",
    "fruits.append(\"date\")  # Adding \"date\" to the list\n",
    "# Printing the entire list to see the updated list\n",
    "print(\"Fruits list:\", fruits)\n",
    "\n",
    "# Tuple - an immutable (unchangeable) collection of elements. Once a tuple is created, its elements cannot be modified.\n",
    "coordinates = (10, 20)\n",
    "# Accessing the first element of the tuple using index 0\n",
    "print(\"X coordinate:\", coordinates[0])\n",
    "\n",
    "# Dictionary - a collection of key-value pairs, where each key is unique and is used to store and retrieve values.\n",
    "student = {\"name\": \"Alice\", \"age\": 21, \"major\": \"Computer Science\"}\n",
    "# Accessing the value associated with the key \"name\"\n",
    "print(\"Student name:\", student[\"name\"])\n",
    "# Updating the value associated with the key \"age\" to 22\n",
    "student[\"age\"] = 22  # Modifying the value of an existing key\n",
    "# Printing the entire dictionary to see the updated information\n",
    "print(\"Updated student info:\", student)\n",
    "\n",
    "# Set - a collection of unique elements, meaning no duplicates are allowed. Sets are unordered, so the elements do not have a specific order.\n",
    "unique_numbers = {1, 2, 3, 2, 1}\n",
    "# Printing the set to see the unique elements (duplicate values are automatically removed)\n",
    "print(\"Unique numbers:\", unique_numbers)\n"
   ]
  }
 ],
 "metadata": {
  "language_info": {
   "name": "python"
  }
 },
 "nbformat": 4,
 "nbformat_minor": 2
}
