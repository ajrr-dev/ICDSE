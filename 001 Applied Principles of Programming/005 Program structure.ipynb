{
 "cells": [
  {
   "cell_type": "code",
   "execution_count": 1,
   "metadata": {},
   "outputs": [
    {
     "name": "stdout",
     "output_type": "stream",
     "text": [
      "Starting the main function.\n",
      "The square root of 16.0 is 4.0\n"
     ]
    }
   ],
   "source": [
    "# Import the math module to use mathematical functions and constants\n",
    "import math\n",
    "\n",
    "# Define a function to calculate and return the square root of a number\n",
    "def calculate_square_root(number):\n",
    "    \"\"\"\n",
    "    Calculate and return the square root of a given number.\n",
    "    \n",
    "    Args:\n",
    "    number (float): The number to calculate the square root of.\n",
    "    \n",
    "    Returns:\n",
    "    float: The square root of the given number.\n",
    "    \"\"\"\n",
    "    # Use the sqrt function from the math module\n",
    "    return math.sqrt(number)\n",
    "\n",
    "# Define the main function which will serve as the entry point of the program\n",
    "def main():\n",
    "    \"\"\"\n",
    "    Main function to execute the program logic.\n",
    "    \"\"\"\n",
    "    # Print a message indicating the start of the main function\n",
    "    print(\"Starting the main function.\")\n",
    "    \n",
    "    # Define a number for which to calculate the square root\n",
    "    num = 16.0\n",
    "    \n",
    "    # Call the calculate_square_root function and store the result\n",
    "    result = calculate_square_root(num)\n",
    "    \n",
    "    # Print the result\n",
    "    print(f\"The square root of {num} is {result}\")\n",
    "\n",
    "# Ensure the main function is called only when the script is executed directly\n",
    "if __name__ == \"__main__\":\n",
    "    main()  # Call the main function\n"
   ]
  }
 ],
 "metadata": {
  "kernelspec": {
   "display_name": "base",
   "language": "python",
   "name": "python3"
  },
  "language_info": {
   "codemirror_mode": {
    "name": "ipython",
    "version": 3
   },
   "file_extension": ".py",
   "mimetype": "text/x-python",
   "name": "python",
   "nbconvert_exporter": "python",
   "pygments_lexer": "ipython3",
   "version": "3.9.12"
  }
 },
 "nbformat": 4,
 "nbformat_minor": 2
}
