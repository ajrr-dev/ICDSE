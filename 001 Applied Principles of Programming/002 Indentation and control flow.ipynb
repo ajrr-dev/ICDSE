{
 "cells": [
  {
   "cell_type": "markdown",
   "metadata": {},
   "source": [
    "### Indentation in Python code"
   ]
  },
  {
   "cell_type": "code",
   "execution_count": 4,
   "metadata": {},
   "outputs": [
    {
     "name": "stdout",
     "output_type": "stream",
     "text": [
      "Even\n",
      "Odd\n"
     ]
    }
   ],
   "source": [
    "# Define a function to check if a number is even or odd\n",
    "\n",
    "# Function definition starts with the 'def' keyword followed by the function name and parameters.\n",
    "# The function body is indented to indicate the block of code that belongs to the function.\n",
    "def check_even_odd(number):\n",
    "    # The 'if' statement checks the condition 'number % 2 == 0'.\n",
    "    # The condition is followed by a colon ':' and the indented block of code that will run if the condition is true.\n",
    "    if number % 2 == 0:\n",
    "        # 'return' statement is used to return a value from the function.\n",
    "        # This statement is also indented to indicate it belongs to the 'if' block.\n",
    "        return \"Even\"\n",
    "    else:\n",
    "        # 'else' statement is used for the alternative case if the 'if' condition is not met.\n",
    "        # It is followed by a colon ':' and an indented block of code.\n",
    "        return \"Odd\"  # This 'return' statement is indented to indicate it belongs to the 'else' block.\n",
    "\n",
    "# Example usage:\n",
    "# Calling the function with a number and printing the result.\n",
    "# Note: There is no need for a semicolon ';' to terminate the statement in Python.\n",
    "print(check_even_odd(4))  # Output: Even\n",
    "print(check_even_odd(7))  # Output: Odd\n"
   ]
  },
  {
   "cell_type": "markdown",
   "metadata": {},
   "source": [
    "### Basic control flow"
   ]
  },
  {
   "cell_type": "code",
   "execution_count": 5,
   "metadata": {},
   "outputs": [
    {
     "name": "stdout",
     "output_type": "stream",
     "text": [
      "The number 7 is: Odd\n",
      "The Number: 1 is Odd\n",
      "The Number: 2 is Even\n",
      "The Number: 3 is Odd\n",
      "The Number: 4 is Even\n",
      "The Number: 5 is Odd\n",
      "Number: 1\n",
      "Number: 2\n",
      "Number: 3\n",
      "Number: 4\n",
      "Number: 5\n"
     ]
    }
   ],
   "source": [
    "# Call the function and print the result\n",
    "result = check_even_odd(7)\n",
    "print(\"The number 7 is:\", result)\n",
    "\n",
    "# For loop to print numbers from 1 to 5\n",
    "for i in range(1, 6):\n",
    "    result = check_even_odd(i)\n",
    "    print(\"The Number:\", i, \"is\", result)\n",
    "\n",
    "# While loop to print numbers from 1 to 5\n",
    "i = 1\n",
    "while i <= 5:\n",
    "    print(\"Number:\", i)\n",
    "    i += 1"
   ]
  }
 ],
 "metadata": {
  "kernelspec": {
   "display_name": "base",
   "language": "python",
   "name": "python3"
  },
  "language_info": {
   "codemirror_mode": {
    "name": "ipython",
    "version": 3
   },
   "file_extension": ".py",
   "mimetype": "text/x-python",
   "name": "python",
   "nbconvert_exporter": "python",
   "pygments_lexer": "ipython3",
   "version": "3.9.12"
  }
 },
 "nbformat": 4,
 "nbformat_minor": 2
}
