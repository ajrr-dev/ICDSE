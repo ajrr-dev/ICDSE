{
 "cells": [
  {
   "cell_type": "markdown",
   "metadata": {},
   "source": [
    "## Algorithms and Pseudocode\n",
    "\n",
    "An algorithm is a set of step-by-step instructions to solve a problem or complete a task. Think of it like a recipe for cooking: it tells you exactly what to do, in what order, to make a dish. In programming, algorithms are used to process data, perform calculations, and automate repetitive tasks.\n",
    "\n",
    "#### Example Algorithm:\n",
    "Imagine you want to find the largest number in a list of numbers. An algorithm for this task might look like this:\n",
    "\n",
    "Start with the first number as the largest.\n",
    "Compare this number with the next number in the list.\n",
    "If the next number is larger, it becomes the new largest number.\n",
    "Repeat the process until you've compared all the numbers in the list.\n",
    "The largest number found is the result.\n",
    "What is Pseudocode?\n",
    "Pseudocode is a way to describe an algorithm using plain English instead of a specific programming language. It helps you plan and understand the logic of your program before you start writing the actual code. Pseudocode uses simple words and phrases to outline the steps of an algorithm, making it easier to read and write.\n",
    "\n",
    "#### Example of Pseudocode:\n",
    "\n",
    "Let's write pseudocode for finding the largest number in a list:\n",
    "\n",
    "\n",
    "1. **Set** largest to the first number in the list.\n",
    "2. **For each** number in the list:\n",
    "   a. **If** the number is greater than largest:\n",
    "      i. **Set** largest to this number.\n",
    "3. **Print** largest.\n",
    "\n",
    "Notice the words in block, what do they do?\n",
    "\n",
    "#### Reserved words:\n",
    "\n",
    "Also known as keywords, are special words in programming and pseudocode that have a specific meaning and function. They are used to perform common tasks and control the flow of a program. In pseudocode, reserved words help structure the logic and make it easier to understand.\n",
    "\n",
    "Here are some common reserved words used in pseudocode:\n",
    "\n",
    "   - **Input**: Get data from the user.\n",
    "   - **Output**: Display data to the user.\n",
    "   - **If**: Make decisions based on conditions.\n",
    "   - **Else**: Provide an alternative when an If condition is false.\n",
    "   - **While**: Create loops that repeat while a condition is true.\n",
    "   - **Do**: Execute at once the following instruction.\n",
    "   - **For**: Create loops that repeat a specific number of times.\n",
    "   - **Starts**: Indicate the beginning of a control structure.\n",
    "   - **End**: Indicate the end of a control structure.\n",
    "\n",
    "#### Summary\n",
    "\n",
    "**Algorithm**: A step-by-step plan to solve a problem.\n",
    "\n",
    "**Pseudocode**: A way to write down an algorithm using plain English.\n",
    "\n",
    "**Reserved**: Words in pseudocode that help you define the structure and flow of your program\n",
    "\n",
    "Using algorithms and pseudocode helps you organize your thoughts and plan your program before writing the actual code, making the programming process smoother and more efficient."
   ]
  },
  {
   "cell_type": "markdown",
   "metadata": {},
   "source": [
    "Exercise\n",
    "\n",
    "Write a simple algorithm for frying and egg. Then create the pseudocode using some of the above mentioned reserved words to describe the process.\n"
   ]
  },
  {
   "cell_type": "markdown",
   "metadata": {},
   "source": [
    "Start here\n",
    "\n",
    "1. Gather ingredients and tools\n",
    "    - egg, oil/butter, salt, frying pan, spatula, stove\n",
    "\n",
    "2. Place frying pan on stove\n",
    "\n",
    "3. Turn on stove to medium heat\n",
    "\n",
    "4. Add oil or butter to frying pan\n",
    "\n",
    "5. Wait until oil/butter is hot\n",
    "\n",
    "6. Crack egg into frying pan\n",
    "\n",
    "7. Meanwhile the egg white is not solid or the yolk is not at desired doneness\n",
    "    a. Continue cooking\n",
    "\n",
    "8. Season egg with salt\n",
    "\n",
    "9. Use spatula to lift egg from pan\n",
    "\n",
    "10. Serve egg on plate\n",
    "\n",
    "You are done! Enjoy!"
   ]
  },
  {
   "cell_type": "markdown",
   "metadata": {},
   "source": [
    "::: mermaid\n",
    "graph TD;\n",
    "    A[Start here] --> B[Gather ingredients and tools]\n",
    "    B --> |egg, oil/butter, salt, frying pan, spatula, stove| C[Place frying pan on stove]\n",
    "    C --> D[Turn on stove to medium heat]\n",
    "    D --> E[Add oil or butter to frying pan]\n",
    "    E --> F[Wait until oil/butter is hot]\n",
    "    F --> G[Crack egg into frying pan]\n",
    "    G --> H[Meanwhile the egg white is not solid or the yolk is not at desired doneness]\n",
    "    H --> |Continue cooking| H\n",
    "    H --> I[Season egg with salt]\n",
    "    I --> J[Use spatula to lift egg from pan]\n",
    "    J --> K[Serve egg on plate]\n",
    "    K --> L[You are done! Enjoy!]\n",
    ":::"
   ]
  },
  {
   "cell_type": "markdown",
   "metadata": {},
   "source": [
    "**algorithm** fry-egg **is**\n",
    "    **input:** egg, oil or butter, salt, frying pan, spatula, stove\n",
    "    **output:** fried egg\n",
    "        **do** place frying pan on stove\n",
    "        **do** turn on stove to medium heat\n",
    "        **do** add oil or butter to frying pan\n",
    "        **do** wait until oil or butter is hot\n",
    "        **do** crack egg into frying pan\n",
    "        **while**  egg white **is not** solid **or** yolk **is not** at desired doneness **do**\n",
    "                continue cooking\n",
    "        **do** season egg with salt\n",
    "        **do** use spatula to lift egg from pan\n",
    "        **do** serve egg on plate\n",
    "    **return**fried egg\n"
   ]
  }
 ],
 "metadata": {
  "kernelspec": {
   "display_name": "base",
   "language": "python",
   "name": "python3"
  },
  "language_info": {
   "codemirror_mode": {
    "name": "ipython",
    "version": 3
   },
   "file_extension": ".py",
   "mimetype": "text/x-python",
   "name": "python",
   "nbconvert_exporter": "python",
   "pygments_lexer": "ipython3",
   "version": "3.9.12"
  }
 },
 "nbformat": 4,
 "nbformat_minor": 2
}
